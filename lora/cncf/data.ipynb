{
 "cells": [
  {
   "cell_type": "code",
   "execution_count": 16,
   "metadata": {},
   "outputs": [],
   "source": [
    "import requests\n",
    "import pandas as pd\n",
    "import os\n",
    "from sklearn.model_selection import train_test_split\n",
    "\n",
    "if os.path.exists(\"qa.csv\"):\n",
    "    os.remove(\"qa.csv\")\n",
    "\n",
    "# https://huggingface.co/datasets/Kubermatic/cncf-question-and-answer-dataset-for-llm-training/tree/main\n",
    "url = \"https://cdn-lfs-us-1.huggingface.co/repos/fd/37/fd37fdccbe3bf305464f6a59711ed0a6f973ba4ea5477cc308babb69279a1e6f/3cd3269125cbac0419a8e2196d15f7261b27481f66a7f354a7ebb80ec9053eb7?response-content-disposition=attachment%3B+filename*%3DUTF-8%27%27qa.csv%3B+filename%3D%22qa.csv%22%3B&response-content-type=text%2Fcsv&Expires=1723186397&Policy=eyJTdGF0ZW1lbnQiOlt7IkNvbmRpdGlvbiI6eyJEYXRlTGVzc1RoYW4iOnsiQVdTOkVwb2NoVGltZSI6MTcyMzE4NjM5N319LCJSZXNvdXJjZSI6Imh0dHBzOi8vY2RuLWxmcy11cy0xLmh1Z2dpbmdmYWNlLmNvL3JlcG9zL2ZkLzM3L2ZkMzdmZGNjYmUzYmYzMDU0NjRmNmE1OTcxMWVkMGE2Zjk3M2JhNGVhNTQ3N2NjMzA4YmFiYjY5Mjc5YTFlNmYvM2NkMzI2OTEyNWNiYWMwNDE5YThlMjE5NmQxNWY3MjYxYjI3NDgxZjY2YTdmMzU0YTdlYmI4MGVjOTA1M2ViNz9yZXNwb25zZS1jb250ZW50LWRpc3Bvc2l0aW9uPSomcmVzcG9uc2UtY29udGVudC10eXBlPSoifV19&Signature=pYrYMQiGJB3OO-8dvXSTBS4nzcIkdxh94OfGy4eBODX%7ES0er5qU4UlzGzKGi1ljILgc-efWg2kYp4DZ0SEDBPVohT4ijKpBkaOPh%7EnWDYiGQUjb%7EbCKrFq8Gw-HCgxyKy7cmyNJO5ajUCWIRocZmf1Sv0ase4VWdn6p%7E8SpXWn784tq-6md1hXxJ3ow0A4vQjPcrb%7EWBwk0E9P%7EcyjvMiduplEqcZe6nnKRoQTZY84YDfyzrWSmpUtKq3M2A7Xkx95dsj1kdL0EzkXC-7TGusegs37S%7EznXgJM0TH6fCRaJTbCW-kR2u7Az99YIgL92Y-cbGa2wve3wFtv1l-bP-kg__&Key-Pair-Id=K24J24Z295AEI9\"\n",
    "response = requests.get(url)\n",
    "with open(\"qa.csv\", \"wb\") as file:\n",
    "    file.write(response.content)\n",
    "\n",
    "df = pd.read_csv(\"qa.csv\")\n",
    "df[\"text\"] = df.apply(lambda row: f\"Q: {row['Question']}\\nA:{row['Answer']}\", axis=1)\n",
    "qa = df[[\"text\"]]\n",
    "\n",
    "train, temp = train_test_split(qa, test_size=0.2, random_state=42)\n",
    "valid, test = train_test_split(temp, test_size=0.5, random_state=42)\n",
    "\n",
    "if os.path.exists(\"train.jsonl\"):\n",
    "    os.remove(\"train.jsonl\")\n",
    "if os.path.exists(\"valid.jsonl\"):\n",
    "    os.remove(\"valid.jsonl\")\n",
    "if os.path.exists(\"test.jsonl\"):\n",
    "    os.remove(\"test.jsonl\")\n",
    "\n",
    "train.to_json(\"train.jsonl\", orient=\"records\", lines=True)\n",
    "valid.to_json(\"valid.jsonl\", orient=\"records\", lines=True)\n",
    "test.to_json(\"test.jsonl\", orient=\"records\", lines=True)"
   ]
  }
 ],
 "metadata": {
  "kernelspec": {
   "display_name": "mlx",
   "language": "python",
   "name": "python3"
  },
  "language_info": {
   "codemirror_mode": {
    "name": "ipython",
    "version": 3
   },
   "file_extension": ".py",
   "mimetype": "text/x-python",
   "name": "python",
   "nbconvert_exporter": "python",
   "pygments_lexer": "ipython3",
   "version": "3.11.9"
  }
 },
 "nbformat": 4,
 "nbformat_minor": 2
}
